{
 "cells": [
  {
   "cell_type": "raw",
   "metadata": {},
   "source": [
    "---\n",
    "title: \"Jupyter Notebook with linked open data\"\n",
    "jupyter: python3\n",
    "---"
   ]
  },
  {
   "cell_type": "markdown",
   "metadata": {},
   "source": [
    "## Linked open data"
   ]
  },
  {
   "cell_type": "markdown",
   "metadata": {},
   "source": [
    "This notebook experiments with querying linked open data in a Jupyter Notebook rendered through Quarto. \n",
    "\n",
    "The Python code below queries the NFDI4Culture Wikibase at https://wikibase.wbworkshop.tibwiki.io/wiki/Main_Page and returns data based on the ID inputted by the user. \n",
    "\n",
    "This executes in Jupyter Notebook which is able to run the Python code and provides a static output when saved in the Notebook. It cannot be executed dynamically in Quarto since the Quarto front-end does not support stdin input requests.\n",
    "\n",
    "To reset the output, run 'Kernel > Restart kernel and clear all outputs'."
   ]
  },
  {
   "cell_type": "code",
   "execution_count": null,
   "metadata": {},
   "outputs": [],
   "source": [
    "import requests\n",
    "\n",
    "# Global variables\n",
    "endpoint_url = 'https://wikibase.wbworkshop.tibwiki.io'\n",
    "resource_url = '/w/api.php'\n",
    "\n",
    "entity = input(\"What's the Q number (including the 'Q')? \")\n",
    "print('Check out ' + endpoint_url + '/wiki/' + entity + ' to see the GUI.')\n",
    "resourceUrl = '/w/api.php?action=wbgetclaims&format=json&entity='+entity\n",
    "uri = endpoint_url + resourceUrl\n",
    "r = requests.get(uri)\n",
    "data = r.json()\n",
    "claims = data['claims']\n",
    "print('subject: ', entity)\n",
    "print()\n",
    "for property, values in claims.items():\n",
    "    print('property: ', property)\n",
    "    for value in values:\n",
    "        try:\n",
    "            # print Q ID if the value is an item\n",
    "            print('item value: ', value['mainsnak']['datavalue']['value']['id'])\n",
    "        except:\n",
    "            try:\n",
    "                # print the string value if the value is a literal\n",
    "                print('literal value: ', value['mainsnak']['datavalue']['value'])\n",
    "            except:\n",
    "                # print the whole snak if the value is something else\n",
    "                print('other value: ', value['mainsnak'])\n",
    "    print()"
   ]
  },
  {
   "cell_type": "markdown",
   "metadata": {},
   "source": [
    "The below Python code experiments with using SPARQLWrapper to retrieve data based on a SPARQL query."
   ]
  },
  {
   "cell_type": "code",
   "execution_count": null,
   "metadata": {},
   "outputs": [],
   "source": [
    "from SPARQLWrapper import SPARQLWrapper, JSON\n",
    "\n",
    "sparql = SPARQLWrapper(\"https://query.wbworkshop.tibwiki.io\")\n",
    "\n",
    "sparql.setQuery(\"\"\"\n",
    "PREFIX rdfs: <http://www.w3.org/2000/01/rdf-schema#>\n",
    "SELECT ?item ?itemLabel ?url\n",
    "WHERE { \n",
    "    ?item tibt:P1 tib:Q15.\n",
    "    ?item tibt:P22 ?url\n",
    "    SERVICE wikibase:label { bd:serviceParam wikibase:language \"[AUTO_LANGUAGE],en\". }\n",
    "} \n",
    "\"\"\")\n",
    "\n",
    "# Convert results to JSON format\n",
    "sparql.setReturnFormat(JSON)\n",
    "result = sparql.query().convert()\n"
   ]
  }
 ],
 "metadata": {
  "kernelspec": {
   "display_name": "Python 3",
   "language": "python",
   "name": "python3"
  },
  "language_info": {
   "codemirror_mode": {
    "name": "ipython",
    "version": 3
   },
   "file_extension": ".py",
   "mimetype": "text/x-python",
   "name": "python",
   "nbconvert_exporter": "python",
   "pygments_lexer": "ipython3",
   "version": "3.8.2"
  }
 },
 "nbformat": 4,
 "nbformat_minor": 5
}
