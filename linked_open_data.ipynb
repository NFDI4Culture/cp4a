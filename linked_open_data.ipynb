{
 "cells": [
  {
   "cell_type": "raw",
   "metadata": {},
   "source": [
    "---\n",
    "title: \"Jupyter Notebook with linked open data\"\n",
    "jupyter: python3\n",
    "---"
   ]
  },
  {
   "cell_type": "markdown",
   "metadata": {},
   "source": [
    "## Linked open data"
   ]
  },
  {
   "cell_type": "markdown",
   "metadata": {},
   "source": [
    "This notebook experiments with querying linked open data in a Jupyter Notebook rendered through Quarto. \n",
    "\n",
    "The Python code below queries the NFDI4Culture Wikibase at https://wikibase.wbworkshop.tibwiki.io/wiki/Main_Page and returns data based on the ID inputted by the user. \n",
    "\n",
    "This executes in Jupyter Notebook which is able to run the Python code and provides a static output when saved in the Notebook. It cannot be executed dynamically in Quarto since the Quarto front-end does not support stdin input requests.\n",
    "\n",
    "To reset the output, run 'Kernel > Restart kernel and clear all outputs'."
   ]
  },
  {
   "cell_type": "markdown",
   "id": "73ba9038",
   "metadata": {},
   "source": [
    "## Wikibase API testing"
   ]
  },
  {
   "cell_type": "code",
   "execution_count": null,
   "metadata": {},
   "outputs": [],
   "source": [
    "import requests\n",
    "\n",
    "# Global variables\n",
    "endpoint_url = 'https://wikibase.wbworkshop.tibwiki.io'\n",
    "resource_url = '/w/api.php'\n",
    "\n",
    "entity = input(\"What's the Q number (including the 'Q')? \")\n",
    "print('Check out ' + endpoint_url + '/wiki/' + entity + ' to see the GUI.')\n",
    "resourceUrl = '/w/api.php?action=wbgetclaims&format=json&entity='+entity\n",
    "uri = endpoint_url + resourceUrl\n",
    "r = requests.get(uri)\n",
    "data = r.json()\n",
    "claims = data['claims']\n",
    "print('subject: ', entity)\n",
    "print()\n",
    "for property, values in claims.items():\n",
    "    print('property: ', property)\n",
    "    for value in values:\n",
    "        try:\n",
    "            # print Q ID if the value is an item\n",
    "            print('item value: ', value['mainsnak']['datavalue']['value']['id'])\n",
    "        except:\n",
    "            try:\n",
    "                # print the string value if the value is a literal\n",
    "                print('literal value: ', value['mainsnak']['datavalue']['value'])\n",
    "            except:\n",
    "                # print the whole snak if the value is something else\n",
    "                print('other value: ', value['mainsnak'])\n",
    "    print()"
   ]
  },
  {
   "cell_type": "markdown",
   "metadata": {},
   "source": [
    "## Query\n",
    "\n",
    "The below Python code experiments with using SPARQLWrapper to retrieve data based on a SPARQL query. Not working with NFDI4Culture Wikibase since I don't know the SPARQL endpoint URL."
   ]
  },
  {
   "cell_type": "code",
   "execution_count": null,
   "metadata": {},
   "outputs": [],
   "source": [
    "from SPARQLWrapper import SPARQLWrapper, JSON\n",
    "from PIL import Image\n",
    "import requests\n",
    "\n",
    "def get_delay(date):\n",
    "    try:\n",
    "        date = datetime.datetime.strptime(date, '%a, %d %b %Y %H:%M:%S GMT')\n",
    "        timeout = int((date - datetime.datetime.now()).total_seconds())\n",
    "    except ValueError:\n",
    "        timeout = int(date)\n",
    "    return timeout\n",
    "\n",
    "def get_image(url, headers):\n",
    "    r = requests.get(url, headers=headers, stream=True)\n",
    "    if r.status_code == 200:\n",
    "        im = Image.open(r.raw)\n",
    "        return im\n",
    "    if r.status_code == 500:\n",
    "        return None\n",
    "    if r.status_code == 403:\n",
    "        return None\n",
    "    if r.status_code == 429:\n",
    "        timeout = get_delay(r.headers['retry-after'])\n",
    "        print('Timeout {} m {} s'.format(timeout // 60, timeout % 60))\n",
    "        time.sleep(timeout)\n",
    "        get_image(url, headers)\n",
    "\n",
    "# Specify the NFDI4Culture Wikibase SPARQL endpoint (CURRENTLY UNKNOWN)\n",
    "#url = 'https://query.wbworkshop.tibwiki.io'\n",
    "\n",
    "# Temporarily using the Wikidata SPARQL endpoint\n",
    "url = 'https://query.wikidata.org/bigdata/namespace/wdq/sparql'\n",
    "user_agent = 'cp4c_bot/0.0 (https://github.com/SimonXIX/cp4c; ad7588@coventry.ac.uk)'\n",
    "sparql = SPARQLWrapper(url, agent=user_agent)\n",
    "\n",
    "# Query\n",
    "# sparql.setQuery(\"\"\"\n",
    "# SELECT ?item ?itemLabel ?creationDateStart ?creationDateEnd ?inscription ?materialLabel ?methodLabel ?description ?media\n",
    "# WHERE { \n",
    "#     ?item tibt:P25 tib:Q60.\n",
    "#     ?item tibt:P79 ?creationDateStart.\n",
    "#     ?item tibt:P80 ?creationDateEnd.\n",
    "#     ?item tibt:P18 ?inscription.\n",
    "#     ?item tibt:P38 ?material.\n",
    "#     ?item tibt:P39 ?method.\n",
    "#     ?item tibt:P26 ?description.\n",
    "#     ?item tibt:P16 ?media\n",
    "#     SERVICE wikibase:label { bd:serviceParam wikibase:language \"[AUTO_LANGUAGE],en\". }\n",
    "# } \n",
    "# #All paintings from \"Belagerungsszenen des Langen Türkenkriegs\"\n",
    "# \"\"\")\n",
    "sparql.setQuery(\"\"\"\n",
    "#Cats, with pictures\n",
    "#defaultView:ImageGrid\n",
    "SELECT ?item ?itemLabel ?pic\n",
    "WHERE\n",
    "{\n",
    "?item wdt:P31 wd:Q146 .\n",
    "?item wdt:P18 ?pic\n",
    "SERVICE wikibase:label { bd:serviceParam wikibase:language \"[AUTO_LANGUAGE],en\" }\n",
    "}\n",
    "LIMIT 2\n",
    "\"\"\")\n",
    "\n",
    "# Convert results to JSON format\n",
    "sparql.setReturnFormat(JSON)\n",
    "result = sparql.query().convert()\n",
    "\n",
    "for item in result['results']['bindings']:\n",
    "    image_url=item['pic']['value']\n",
    "    headers = {'User-Agent': 'cp4c_bot/0.0 (https://github.com/SimonXIX/cp4c; ad7588@coventry.ac.uk)'}\n",
    "    im = get_image(image_url, headers)\n",
    "\n",
    "    print('Cat name: ', item['itemLabel']['value'])\n",
    "    display(im)\n"
   ]
  },
  {
   "cell_type": "markdown",
   "id": "bd2c1006",
   "metadata": {},
   "source": [
    "## Image - Siege III: The Fortress of Raab occupied by the Turks, 1594. Painting, https://wikibase.wbworkshop.tibwiki.io/wiki/Item:Q505\n",
    "\n",
    "The below Python code experiments with retrieving data from Wikibase using the API. This takes approx. 18 seconds to run due to the size of the images."
   ]
  },
  {
   "cell_type": "code",
   "execution_count": null,
   "metadata": {},
   "outputs": [],
   "source": [
    "from PIL import Image\n",
    "import requests\n",
    "\n",
    "# Global variables\n",
    "endpoint_url = 'https://wikibase.wbworkshop.tibwiki.io'\n",
    "resource_url = '/w/api.php'\n",
    "entity_id = 'Q505'\n",
    "\n",
    "def get_entity (entity_id):\n",
    "    resourceUrl = '/w/api.php?action=wbgetentities&format=json&ids='+entity_id\n",
    "    uri = endpoint_url + resourceUrl\n",
    "    r = requests.get(uri)\n",
    "    data = r.json()\n",
    "    return data\n",
    "\n",
    "media_data = get_entity(entity_id)\n",
    "claims = media_data['entities'][entity_id]['claims']\n",
    "for property, values in claims.items():\n",
    "    if property == 'P22':\n",
    "        for value in values:\n",
    "            image_url = value['mainsnak']['datavalue']['value']\n",
    "            im = Image.open(requests.get(image_url, stream=True).raw)\n",
    "    elif property == 'P23':\n",
    "        for value in values:\n",
    "            entity_id = value['mainsnak']['datavalue']['value']['id']\n",
    "            object_data = get_entity(entity_id)\n",
    "print('English title: ', object_data['entities'][entity_id]['labels']['en']['value'])\n",
    "display(im)"
   ]
  },
  {
   "cell_type": "markdown",
   "id": "82fdddb7",
   "metadata": {},
   "source": [
    "## Model with annotation - https://wikibase.wbworkshop.tibwiki.io/wiki/Item:Q469"
   ]
  },
  {
   "cell_type": "markdown",
   "id": "f61a078d",
   "metadata": {},
   "source": [
    "## Video - Developing an open source data pipeline for participation in community knowledge bases - https://av.tib.eu/media/56162"
   ]
  }
 ],
 "metadata": {
  "kernelspec": {
   "display_name": "Python 3.10.8 64-bit",
   "language": "python",
   "name": "python3"
  },
  "language_info": {
   "codemirror_mode": {
    "name": "ipython",
    "version": 3
   },
   "file_extension": ".py",
   "mimetype": "text/x-python",
   "name": "python",
   "nbconvert_exporter": "python",
   "pygments_lexer": "ipython3",
   "version": "3.10.8"
  },
  "vscode": {
   "interpreter": {
    "hash": "aee8b7b246df8f9039afb4144a1f6fd8d2ca17a180786b69acc140d282b71a49"
   }
  }
 },
 "nbformat": 4,
 "nbformat_minor": 5
}
